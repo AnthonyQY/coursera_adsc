{
 "cells": [
  {
   "cell_type": "markdown",
   "metadata": {},
   "source": [
    "<h1>Applied Data Science Capstone Project</h1>\n",
    "<h3>By Anthony Yiu</h3>"
   ]
  },
  {
   "cell_type": "markdown",
   "metadata": {},
   "source": [
    "<h2>The Coffee Shop Dilemma</h2>"
   ]
  },
  {
   "cell_type": "markdown",
   "metadata": {},
   "source": [
    "Let's say that you are Mark, a 23 year-old college grad with a major in ***Coffeeology***.\n",
    "\n",
    "Now that you've completed your education, your parents demand that you *finally* get a job and this time you don't have any excuses not to.\n",
    "\n",
    "After consulting with some friends you graduated with who also studied ***Coffeeology***, three of them offer you to become the co-founder of their new coffee shops. \n",
    "\n",
    "The problem? Well, there's only one of you and they're all opening coffee shops in different cities!\n",
    "\n",
    "One is opening in New York City, another in Los Angeles and the last one in Toronto!\n",
    "\n",
    "Of course, you want to work for the coffee shop with the greatest potential.\n",
    "\n",
    "Can you predict the how successful each coffee shop will be just based on their planned locations?"
   ]
  },
  {
   "cell_type": "markdown",
   "metadata": {},
   "source": [
    "<h2>The Data</h2>"
   ]
  },
  {
   "cell_type": "markdown",
   "metadata": {},
   "source": [
    "Luckily for you (Mark), you took a data science course to fulfill one of you GE requirements last year, so you know a thing for two about machine learning techniques and where to get data!\n",
    "\n"
   ]
  },
  {
   "cell_type": "markdown",
   "metadata": {},
   "source": [
    "All location data and details will be pulled from the FourSquare Places API and since revenue from coffee shops (which are often private businesses) is not readily avaliable, general ratings will be used instead."
   ]
  },
  {
   "cell_type": "markdown",
   "metadata": {},
   "source": [
    "## Method"
   ]
  },
  {
   "cell_type": "markdown",
   "metadata": {},
   "source": [
    "We will correlate factors from each city (e.g density of coffee shops) to the average ratings of coffee shops in each city in order to find out which city is the most viable for our coffee shop.\n",
    "\n",
    "This correlation will be calculated using method such as regression."
   ]
  }
 ],
 "metadata": {
  "kernelspec": {
   "display_name": "Python 3",
   "language": "python",
   "name": "python3"
  },
  "language_info": {
   "codemirror_mode": {
    "name": "ipython",
    "version": 3
   },
   "file_extension": ".py",
   "mimetype": "text/x-python",
   "name": "python",
   "nbconvert_exporter": "python",
   "pygments_lexer": "ipython3",
   "version": "3.7.4"
  }
 },
 "nbformat": 4,
 "nbformat_minor": 2
}
